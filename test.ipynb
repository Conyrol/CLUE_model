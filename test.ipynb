{
 "cells": [
  {
   "cell_type": "code",
   "execution_count": 6,
   "metadata": {},
   "outputs": [
    {
     "name": "stdout",
     "output_type": "stream",
     "text": [
      "2.895271581511013\n",
      "====================\n",
      "[4.13064587e-001 5.16313410e-001 6.95964782e-002 1.02388474e-003\n",
      " 1.63962777e-006 2.77544090e-010 5.23111831e-015 1.07321686e-020\n",
      " 2.28132450e-027 5.50869053e-035 1.44790500e-043 3.86502680e-053\n",
      " 1.19567340e-063 4.02627109e-075 1.34967224e-087 5.34917893e-101\n",
      " 2.30768390e-115 9.71436646e-131 4.93255622e-147]\n"
     ]
    },
    {
     "data": {
      "image/png": "[encoded data removed]",
      "text/plain": [
       "<Figure size 432x288 with 1 Axes>"
      ]
     },
     "metadata": {
      "needs_background": "light"
     },
     "output_type": "display_data"
    }
   ],
   "source": [
    "import numpy as np\n",
    "import matplotlib.pyplot as plt\n",
    "import math\n",
    "import torch\n",
    "\n",
    "u = 0  # 均值μ\n",
    "sig = math.sqrt(0.05)  # 标准差δ\n",
    "\n",
    "x = np.array([-3, -2.667, -2.333, -2, -1.667, -1.333, -1, -0.667, -0.333, 0, 0.333, 0.667, 1, 1.333, 1.667, 2, 2.333, 2.667, 3])\n",
    "x = np.array([-3, -2, -1, 0, 1, 2, 3])\n",
    "y_sig = np.exp(-(x - u) ** 2 / (2 * sig ** 2)) / (math.sqrt(2 * math.pi) * sig)\n",
    "print(np.sum(y_sig))\n",
    "y_sig = y_sig / np.sum(y_sig)\n",
    "# y_sig = torch.softmax(torch.tensor(y_sig), dim = 0)  # 按列SoftMax,列和为1\n",
    "# print(y_sig)\n",
    "print(\"=\" * 20)\n",
    "print(y_sig)\n",
    "plt.plot(x, y_sig, \"r-\", linewidth=2)\n",
    "plt.grid(True)\n",
    "plt.show()"
   ]
  },
  {
   "cell_type": "code",
   "execution_count": 13,
   "metadata": {},
   "outputs": [
    {
     "data": {
      "text/plain": [
       "tensor([[ 1.9352e-70,  2.3699e-59,  3.3771e-49,  4.8678e-40,  7.6374e-32,\n",
       "          1.3667e-24,  2.5238e-18,  5.0731e-13,  1.1400e-08,  2.6970e-05,\n",
       "          6.9455e-03,  1.9600e-01,  5.9406e-01,  1.9600e-01,  6.9455e-03,\n",
       "          2.6970e-05,  1.1400e-08,  5.0731e-13,  2.5238e-18],\n",
       "        [1.5857e-109,  1.5158e-95,  1.7200e-82,  1.9352e-70,  2.3699e-59,\n",
       "          3.3771e-49,  4.8678e-40,  7.6374e-32,  1.3667e-24,  2.5238e-18,\n",
       "          5.0731e-13,  1.1400e-08,  2.6970e-05,  6.9455e-03,  1.9600e-01,\n",
       "          5.9406e-01,  1.9600e-01,  6.9455e-03,  2.6970e-05],\n",
       "        [3.3600e-157, 2.5071e-140, 2.2654e-124, 1.9895e-109,  1.9018e-95,\n",
       "          2.1580e-82,  2.4280e-70,  2.9734e-59,  4.2371e-49,  6.1074e-40,\n",
       "          9.5824e-32,  1.7147e-24,  3.1665e-18,  6.3650e-13,  1.4303e-08,\n",
       "          3.3839e-05,  8.7142e-03,  2.4591e-01,  7.4534e-01]],\n",
       "       dtype=torch.float64)"
      ]
     },
     "execution_count": 13,
     "metadata": {},
     "output_type": "execute_result"
    }
   ],
   "source": [
    "def change_to_classify(y):\n",
    "    over_sample = []\n",
    "    for i in y:\n",
    "        sig = math.sqrt(0.05)  # 标准差δ\n",
    "        x = np.array([-3, -2.667, -2.333, -2, -1.667, -1.333, -1, -0.667, -0.333, 0, 0.333, 0.667, 1, 1.333, 1.667, 2, 2.333, 2.667, 3])\n",
    "        y_sig = np.exp(-(x - i) ** 2 / (2 * sig ** 2)) / (math.sqrt(2 * math.pi) * sig)\n",
    "        over_sample.append(y_sig / np.sum(y_sig))\n",
    "\n",
    "    return torch.tensor(over_sample)\n",
    "change_to_classify([1, 2, 3])"
   ]
  }
 ],
 "metadata": {
  "kernelspec": {
   "display_name": "Python 3.7.5 ('misa-code')",
   "language": "python",
   "name": "python3"
  },
  "language_info": {
   "codemirror_mode": {
    "name": "ipython",
    "version": 3
   },
   "file_extension": ".py",
   "mimetype": "text/x-python",
   "name": "python",
   "nbconvert_exporter": "python",
   "pygments_lexer": "ipython3",
   "version": "3.7.5"
  },
  "orig_nbformat": 4,
  "vscode": {
   "interpreter": {
    "hash": "f6b63d197e21bd2066ed2cebadd80cd5cac504abdc1a4d1db335aa0ddc8b7a6c"
   }
  }
 },
 "nbformat": 4,
 "nbformat_minor": 2
}
